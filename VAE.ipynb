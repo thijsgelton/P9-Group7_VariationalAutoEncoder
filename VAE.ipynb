{
  "nbformat": 4,
  "nbformat_minor": 0,
  "metadata": {
    "kernelspec": {
      "display_name": "Python 3",
      "language": "python",
      "name": "python3"
    },
    "language_info": {
      "codemirror_mode": {
        "name": "ipython",
        "version": 3
      },
      "file_extension": ".py",
      "mimetype": "text/x-python",
      "name": "python",
      "nbconvert_exporter": "python",
      "pygments_lexer": "ipython3",
      "version": "3.8.3"
    },
    "colab": {
      "name": "VAE.ipynb",
      "provenance": [],
      "collapsed_sections": [],
      "include_colab_link": true
    },
    "accelerator": "GPU",
    "widgets": {
      "application/vnd.jupyter.widget-state+json": {
        "462729fc2f1b49f9b6030583d4ef3df8": {
          "model_module": "@jupyter-widgets/controls",
          "model_name": "HBoxModel",
          "state": {
            "_view_name": "HBoxView",
            "_dom_classes": [],
            "_model_name": "HBoxModel",
            "_view_module": "@jupyter-widgets/controls",
            "_model_module_version": "1.5.0",
            "_view_count": null,
            "_view_module_version": "1.5.0",
            "box_style": "",
            "layout": "IPY_MODEL_8575bc8f123e4f6e8f926e68e509c7b3",
            "_model_module": "@jupyter-widgets/controls",
            "children": [
              "IPY_MODEL_b4ec506214cf4b139151c7dfdd7daa5f",
              "IPY_MODEL_9fb4f7e8ea294aa9bd5aac3f3a2120d0"
            ]
          }
        },
        "8575bc8f123e4f6e8f926e68e509c7b3": {
          "model_module": "@jupyter-widgets/base",
          "model_name": "LayoutModel",
          "state": {
            "_view_name": "LayoutView",
            "grid_template_rows": null,
            "right": null,
            "justify_content": null,
            "_view_module": "@jupyter-widgets/base",
            "overflow": null,
            "_model_module_version": "1.2.0",
            "_view_count": null,
            "flex_flow": null,
            "width": null,
            "min_width": null,
            "border": null,
            "align_items": null,
            "bottom": null,
            "_model_module": "@jupyter-widgets/base",
            "top": null,
            "grid_column": null,
            "overflow_y": null,
            "overflow_x": null,
            "grid_auto_flow": null,
            "grid_area": null,
            "grid_template_columns": null,
            "flex": null,
            "_model_name": "LayoutModel",
            "justify_items": null,
            "grid_row": null,
            "max_height": null,
            "align_content": null,
            "visibility": null,
            "align_self": null,
            "height": null,
            "min_height": null,
            "padding": null,
            "grid_auto_rows": null,
            "grid_gap": null,
            "max_width": null,
            "order": null,
            "_view_module_version": "1.2.0",
            "grid_template_areas": null,
            "object_position": null,
            "object_fit": null,
            "grid_auto_columns": null,
            "margin": null,
            "display": null,
            "left": null
          }
        },
        "b4ec506214cf4b139151c7dfdd7daa5f": {
          "model_module": "@jupyter-widgets/controls",
          "model_name": "FloatProgressModel",
          "state": {
            "_view_name": "ProgressView",
            "style": "IPY_MODEL_a57c7f030d0f451397db90c81447c1f4",
            "_dom_classes": [],
            "description": "epochs: 100%",
            "_model_name": "FloatProgressModel",
            "bar_style": "success",
            "max": 50,
            "_view_module": "@jupyter-widgets/controls",
            "_model_module_version": "1.5.0",
            "value": 50,
            "_view_count": null,
            "_view_module_version": "1.5.0",
            "orientation": "horizontal",
            "min": 0,
            "description_tooltip": null,
            "_model_module": "@jupyter-widgets/controls",
            "layout": "IPY_MODEL_fb6a0409e5264b1190f3eb92a1e4a1c1"
          }
        },
        "9fb4f7e8ea294aa9bd5aac3f3a2120d0": {
          "model_module": "@jupyter-widgets/controls",
          "model_name": "HTMLModel",
          "state": {
            "_view_name": "HTMLView",
            "style": "IPY_MODEL_55b7db0e918c4a1a92188606d2796fc6",
            "_dom_classes": [],
            "description": "",
            "_model_name": "HTMLModel",
            "placeholder": "​",
            "_view_module": "@jupyter-widgets/controls",
            "_model_module_version": "1.5.0",
            "value": " 50/50 [05:47&lt;00:00,  6.94s/it]",
            "_view_count": null,
            "_view_module_version": "1.5.0",
            "description_tooltip": null,
            "_model_module": "@jupyter-widgets/controls",
            "layout": "IPY_MODEL_4474b9eb907944c8892a4640cb2e0871"
          }
        },
        "a57c7f030d0f451397db90c81447c1f4": {
          "model_module": "@jupyter-widgets/controls",
          "model_name": "ProgressStyleModel",
          "state": {
            "_view_name": "StyleView",
            "_model_name": "ProgressStyleModel",
            "description_width": "initial",
            "_view_module": "@jupyter-widgets/base",
            "_model_module_version": "1.5.0",
            "_view_count": null,
            "_view_module_version": "1.2.0",
            "bar_color": null,
            "_model_module": "@jupyter-widgets/controls"
          }
        },
        "fb6a0409e5264b1190f3eb92a1e4a1c1": {
          "model_module": "@jupyter-widgets/base",
          "model_name": "LayoutModel",
          "state": {
            "_view_name": "LayoutView",
            "grid_template_rows": null,
            "right": null,
            "justify_content": null,
            "_view_module": "@jupyter-widgets/base",
            "overflow": null,
            "_model_module_version": "1.2.0",
            "_view_count": null,
            "flex_flow": null,
            "width": null,
            "min_width": null,
            "border": null,
            "align_items": null,
            "bottom": null,
            "_model_module": "@jupyter-widgets/base",
            "top": null,
            "grid_column": null,
            "overflow_y": null,
            "overflow_x": null,
            "grid_auto_flow": null,
            "grid_area": null,
            "grid_template_columns": null,
            "flex": null,
            "_model_name": "LayoutModel",
            "justify_items": null,
            "grid_row": null,
            "max_height": null,
            "align_content": null,
            "visibility": null,
            "align_self": null,
            "height": null,
            "min_height": null,
            "padding": null,
            "grid_auto_rows": null,
            "grid_gap": null,
            "max_width": null,
            "order": null,
            "_view_module_version": "1.2.0",
            "grid_template_areas": null,
            "object_position": null,
            "object_fit": null,
            "grid_auto_columns": null,
            "margin": null,
            "display": null,
            "left": null
          }
        },
        "55b7db0e918c4a1a92188606d2796fc6": {
          "model_module": "@jupyter-widgets/controls",
          "model_name": "DescriptionStyleModel",
          "state": {
            "_view_name": "StyleView",
            "_model_name": "DescriptionStyleModel",
            "description_width": "",
            "_view_module": "@jupyter-widgets/base",
            "_model_module_version": "1.5.0",
            "_view_count": null,
            "_view_module_version": "1.2.0",
            "_model_module": "@jupyter-widgets/controls"
          }
        },
        "4474b9eb907944c8892a4640cb2e0871": {
          "model_module": "@jupyter-widgets/base",
          "model_name": "LayoutModel",
          "state": {
            "_view_name": "LayoutView",
            "grid_template_rows": null,
            "right": null,
            "justify_content": null,
            "_view_module": "@jupyter-widgets/base",
            "overflow": null,
            "_model_module_version": "1.2.0",
            "_view_count": null,
            "flex_flow": null,
            "width": null,
            "min_width": null,
            "border": null,
            "align_items": null,
            "bottom": null,
            "_model_module": "@jupyter-widgets/base",
            "top": null,
            "grid_column": null,
            "overflow_y": null,
            "overflow_x": null,
            "grid_auto_flow": null,
            "grid_area": null,
            "grid_template_columns": null,
            "flex": null,
            "_model_name": "LayoutModel",
            "justify_items": null,
            "grid_row": null,
            "max_height": null,
            "align_content": null,
            "visibility": null,
            "align_self": null,
            "height": null,
            "min_height": null,
            "padding": null,
            "grid_auto_rows": null,
            "grid_gap": null,
            "max_width": null,
            "order": null,
            "_view_module_version": "1.2.0",
            "grid_template_areas": null,
            "object_position": null,
            "object_fit": null,
            "grid_auto_columns": null,
            "margin": null,
            "display": null,
            "left": null
          }
        }
      }
    }
  },
  "cells": [
    {
      "cell_type": "markdown",
      "metadata": {
        "id": "view-in-github",
        "colab_type": "text"
      },
      "source": [
        "<a href=\"https://colab.research.google.com/github/thijsgelton/P9-Group7_VariationalAutoEncoder/blob/main/VAE.ipynb\" target=\"_parent\"><img src=\"https://colab.research.google.com/assets/colab-badge.svg\" alt=\"Open In Colab\"/></a>"
      ]
    },
    {
      "cell_type": "markdown",
      "metadata": {
        "id": "87t9m7vdFL6G"
      },
      "source": [
        "```\n",
        "SOW-MKI95 Computer Graphics & Computer Vision Spring\n",
        "Variational autoencoders practical\n",
        "```"
      ]
    },
    {
      "cell_type": "markdown",
      "metadata": {
        "id": "qTiJBPQyFPOk"
      },
      "source": [
        "```\n",
        "Group number: 7\n",
        "Student 1 name/number: Marit Hagens, s4808061\n",
        "Student 2 name/number: Joost Verhaert, s1047220\n",
        "Student 3 name/number: Thijs Gelton, s4480783\n",
        "```\n"
      ]
    },
    {
      "cell_type": "markdown",
      "metadata": {
        "id": "oXWAo0aLkrXx"
      },
      "source": [
        "#1. Install MXnet GPU and import libraries"
      ]
    },
    {
      "cell_type": "code",
      "metadata": {
        "id": "kIinhT5oTfxT",
        "colab": {
          "base_uri": "https://localhost:8080/"
        },
        "outputId": "9e6ffb63-cd2a-46b1-8905-277046744d83"
      },
      "source": [
        "!pip install mxnet-cu100"
      ],
      "execution_count": 1,
      "outputs": [
        {
          "output_type": "stream",
          "text": [
            "Collecting mxnet-cu100\n",
            "\u001b[?25l  Downloading https://files.pythonhosted.org/packages/85/09/a13d45136ce70589cceee4081f485f8f47fc5eb716d07981d4c2547763df/mxnet_cu100-1.8.0.post0-py2.py3-none-manylinux2014_x86_64.whl (352.6MB)\n",
            "\u001b[K     |████████████████████████████████| 352.6MB 28kB/s \n",
            "\u001b[?25hRequirement already satisfied: requests<3,>=2.20.0 in /usr/local/lib/python3.7/dist-packages (from mxnet-cu100) (2.23.0)\n",
            "Collecting graphviz<0.9.0,>=0.8.1\n",
            "  Downloading https://files.pythonhosted.org/packages/53/39/4ab213673844e0c004bed8a0781a0721a3f6bb23eb8854ee75c236428892/graphviz-0.8.4-py2.py3-none-any.whl\n",
            "Requirement already satisfied: numpy<2.0.0,>1.16.0 in /usr/local/lib/python3.7/dist-packages (from mxnet-cu100) (1.19.5)\n",
            "Requirement already satisfied: chardet<4,>=3.0.2 in /usr/local/lib/python3.7/dist-packages (from requests<3,>=2.20.0->mxnet-cu100) (3.0.4)\n",
            "Requirement already satisfied: idna<3,>=2.5 in /usr/local/lib/python3.7/dist-packages (from requests<3,>=2.20.0->mxnet-cu100) (2.10)\n",
            "Requirement already satisfied: urllib3!=1.25.0,!=1.25.1,<1.26,>=1.21.1 in /usr/local/lib/python3.7/dist-packages (from requests<3,>=2.20.0->mxnet-cu100) (1.24.3)\n",
            "Requirement already satisfied: certifi>=2017.4.17 in /usr/local/lib/python3.7/dist-packages (from requests<3,>=2.20.0->mxnet-cu100) (2020.12.5)\n",
            "Installing collected packages: graphviz, mxnet-cu100\n",
            "  Found existing installation: graphviz 0.10.1\n",
            "    Uninstalling graphviz-0.10.1:\n",
            "      Successfully uninstalled graphviz-0.10.1\n",
            "Successfully installed graphviz-0.8.4 mxnet-cu100-1.8.0.post0\n"
          ],
          "name": "stdout"
        }
      ]
    },
    {
      "cell_type": "code",
      "metadata": {
        "id": "uSl_faq2EGYd"
      },
      "source": [
        "from mxnet import nd, gluon\n",
        "from mxnet.gluon import nn\n",
        "from mxnet import autograd as ag\n",
        "\n",
        "import matplotlib.pyplot as plt\n",
        "import mxnet as mx\n",
        "import numpy as np\n",
        "import math\n",
        "from tqdm.notebook import tqdm\n",
        "\n",
        "%matplotlib inline\n",
        "\n",
        "# Feel free to import other modules/packages"
      ],
      "execution_count": 7,
      "outputs": []
    },
    {
      "cell_type": "markdown",
      "metadata": {
        "id": "v7FGZK6wkzxo"
      },
      "source": [
        "## 1.1 Set device context to gpu."
      ]
    },
    {
      "cell_type": "code",
      "metadata": {
        "id": "NE2TFzekUq8s",
        "colab": {
          "base_uri": "https://localhost:8080/"
        },
        "outputId": "1dfc1bac-0350-43df-8682-980ee45e015b"
      },
      "source": [
        "def gpu_device(gpu_number=0):\n",
        "    try:\n",
        "        _ = mx.nd.array([1, 2, 3], ctx=mx.gpu(gpu_number))\n",
        "    except mx.MXNetError:\n",
        "        return None\n",
        "    return mx.gpu(gpu_number)\n",
        "\n",
        "gpu = gpu_device()\n",
        "\n",
        "if gpu:\n",
        "    print('Using GPU for model_ctx')\n",
        "    model_ctx = gpu\n",
        "else:\n",
        "    print('Using CPU for model_ctx')\n",
        "    model_ctx = mx.cpu()"
      ],
      "execution_count": 8,
      "outputs": [
        {
          "output_type": "stream",
          "text": [
            "Using GPU for model_ctx\n"
          ],
          "name": "stdout"
        }
      ]
    },
    {
      "cell_type": "markdown",
      "metadata": {
        "id": "qy8kd5Vvdt7P"
      },
      "source": [
        "#2. Loading in the MNIST dataset."
      ]
    },
    {
      "cell_type": "code",
      "metadata": {
        "id": "n5CstDKudrS5"
      },
      "source": [
        "# Fixing the random seed\n",
        "mx.random.seed(42)\n",
        "\n",
        "# Get data\n",
        "mnist = mx.test_utils.get_mnist()"
      ],
      "execution_count": 9,
      "outputs": []
    },
    {
      "cell_type": "code",
      "metadata": {
        "id": "HBxiJAKXiVwJ"
      },
      "source": [
        "# Create data iterators\n",
        "batch_size = 100\n",
        "train_data = mx.io.NDArrayIter(mnist['train_data'].reshape(-1, 784), mnist['train_label'], batch_size, shuffle=True)\n",
        "val_data = mx.io.NDArrayIter(mnist['test_data'].reshape(-1, 784), mnist['test_label'], batch_size)"
      ],
      "execution_count": 10,
      "outputs": []
    },
    {
      "cell_type": "markdown",
      "metadata": {
        "id": "f9zZYaxlk8Ka"
      },
      "source": [
        "#3. Develop the Variational Auto-Encoder model"
      ]
    },
    {
      "cell_type": "markdown",
      "metadata": {
        "id": "izULJfhWEGYg"
      },
      "source": [
        "### Task 1 (10 points):\n",
        "\n",
        "* Implement the decoder class for a variational autoencoder.\n",
        "\n",
        "---o---\n",
        "\n",
        "Recall that the decoder transforms latents (features) to observables (images). It corresponds to p(x | z) in the context of variational inference (and the slides), where x is observables and z is latents. Note that it should output the Gaussian parameters (mean and variance per pixel) of images rather than images themselves.\n",
        "\n",
        "---o---"
      ]
    },
    {
      "cell_type": "code",
      "metadata": {
        "id": "iEDrnNpjEGYh"
      },
      "source": [
        "class Decoder(nn.HybridSequential):\n",
        "    def __init__(self, activation = \"relu\", hiddens = 400, observables = 784, layers = 1, **kwargs):\n",
        "        super(Decoder, self).__init__(prefix = 'decoder', **kwargs)\n",
        "        for i in range(layers):\n",
        "            self.add(nn.Dense(hiddens, activation=activation))\n",
        "        self.add(nn.Dense(observables * 2, activation=\"sigmoid\"))       \n",
        "        "
      ],
      "execution_count": 11,
      "outputs": []
    },
    {
      "cell_type": "markdown",
      "metadata": {
        "id": "7KE1zoq2EGYk"
      },
      "source": [
        "### Task 2 (10 points):\n",
        "\n",
        "* Implement the encoder class for a variational autoencoder.\n",
        "\n",
        "---o---\n",
        "\n",
        "Recall that the encoder transforms observables (images) to latents (features). It corresponds to q(z | x) in the context of variational inference (and the slides), where z is latents and x is observables. Note that it should output the Gaussian parameters (mean and variance per feature) of features rather than features themselves.\n",
        "\n",
        "---o---"
      ]
    },
    {
      "cell_type": "code",
      "metadata": {
        "id": "9sZngO1pEGYl"
      },
      "source": [
        "class Encoder(nn.HybridSequential):\n",
        "    def __init__(self, activation = \"relu\", hiddens= 400, latents = 2, layers = 1, **kwargs): # Feel free to use different arguments\n",
        "        super(Encoder, self).__init__(prefix = \"encoder\", **kwargs)\n",
        "        for i in range(layers):\n",
        "            self.add(nn.Dense(hiddens, activation=activation))\n",
        "        self.add(nn.Dense(latents * 2)) # No activation function, because mean and std can be [-inf, +inf]"
      ],
      "execution_count": 12,
      "outputs": []
    },
    {
      "cell_type": "markdown",
      "metadata": {
        "id": "N59f0FCOEGYn"
      },
      "source": [
        "### Task:\n",
        "\n",
        "* Implement the loss function class for a variational autoecoder.\n",
        "\n",
        "---o---\n",
        "\n",
        "The loss function takes the following arguments as input:\n",
        "\n",
        "* x        : input images (mini batch)\n",
        "* x_mean   : mean of the decoded images (output of the decoder)\n",
        "* x_log_var: mean of the decoded images (output of the decoder)\n",
        "* z_mean   : mean of the encoded features (output of the encoder)\n",
        "* z_log_var: log variance of the encoded features (output of the encoder)\n",
        "\n",
        "It gives the following evidence lower bound (ELBO) as ouput:\n",
        "\n",
        "* $L = D_{KL}(q(z | x), p(z)) -  E_{z\\sim q}[log p(x | z)]$\n",
        "\n",
        "where\n",
        "\n",
        "* The first term is the KL divergence between the approximate Gaussian posterior (q) and the standard Gaussian prior (p), which can be interpreted as a form of regularization.\n",
        "* The second term is the Gaussian negative log likelihood, which is the term that fits the data and is very similar to the usual loss functions that are usded in deep learning.\n",
        "\n",
        "---o---"
      ]
    },
    {
      "cell_type": "code",
      "metadata": {
        "id": "DAfVRFXJEGYo"
      },
      "source": [
        "class Lossfun:\n",
        "    def __init__(self, w = 0.5):\n",
        "        self.w = w\n",
        "\n",
        "    def __call__(self, x, x_mean, x_log_var, z_mean, z_log_var):\n",
        "        return nd.mean(self.get_kl(z_mean, z_log_var) + self.get_nll(x, x_mean, x_log_var))\n",
        "\n",
        "    def get_kl(self, z_mean, z_log_var):\n",
        "        return -0.5 * nd.sum(1 + z_log_var-z_mean**2 - nd.exp(z_log_var), axis=-1)\n",
        "\n",
        "    def get_nll(self, x, x_mean, x_log_var):\n",
        "        x_prec = nd.exp(-x_log_var)\n",
        "        x_diff = x - x_mean\n",
        "        x_power = -0.5 * nd.square(x_diff) * x_prec\n",
        "        loss = -0.5 * (x_log_var + np.log(2 * np.pi)) + x_power\n",
        "        return -nd.sum(loss, axis=-1)"
      ],
      "execution_count": 13,
      "outputs": []
    },
    {
      "cell_type": "markdown",
      "metadata": {
        "id": "0gxKE99gEGYr"
      },
      "source": [
        "### Task (5 points):\n",
        "\n",
        "* Implement the variational autoencoder."
      ]
    },
    {
      "cell_type": "code",
      "metadata": {
        "id": "esbwnvO4EGYr"
      },
      "source": [
        "class VariationalAutoencoder(gluon.HybridBlock):\n",
        "    def __init__(self,  activation = \"relu\", hiddens= 400, latents = 2, observables = 784, layers = 1, **kwargs): # Feel free to use different arguments\n",
        "        super(VariationalAutoencoder, self).__init__()\n",
        "        self.latents = latents\n",
        "        with self.name_scope():\n",
        "            self.encoder = Encoder(activation, hiddens, latents, layers, **kwargs)\n",
        "            self.decoder = Decoder(activation, hiddens, observables, layers, **kwargs)\n",
        "\n",
        "    def hybrid_forward(self, F, x):\n",
        "        z_mean, z_log_var = F.split(self.encoder(x), axis=1, num_outputs=2)\n",
        "\n",
        "        eps = F.random_normal(loc=0, scale=1, shape=(x.shape[0], self.latents), ctx=model_ctx) # Reparamitisation trick\n",
        "        z = z_mean + F.exp(0.5 * z_log_var) * eps\n",
        "        \n",
        "        x_mean, x_log_var = F.split(self.decoder(z), axis=1, num_outputs=2)\n",
        "        return x, x_mean, x_log_var, z_mean, z_log_var"
      ],
      "execution_count": 14,
      "outputs": []
    },
    {
      "cell_type": "markdown",
      "metadata": {
        "id": "EjFitH3uEGYu"
      },
      "source": [
        "### Task (25 points):\n",
        "\n",
        "* Train the variational autoencoder on the Mnist dataset. You can refer to the previous assignment to implement your training loop."
      ]
    },
    {
      "cell_type": "code",
      "metadata": {
        "id": "KEW5GJ3AkOj7"
      },
      "source": [
        "# check wheter there is a gpu and use the best option\n",
        "gpus = mx.test_utils.list_gpus()\n",
        "ctx =  [mx.gpu()] if gpus else [mx.cpu(0), mx.cpu(1)]\n",
        "vae_model = VariationalAutoencoder()\n",
        "loss_fn = Lossfun()\n",
        "vae_model.initialize(mx.init.Xavier(magnitude=2.24), ctx=ctx)\n",
        "trainer = gluon.Trainer(vae_model.collect_params(), 'adam', {'learning_rate': 0.02})"
      ],
      "execution_count": 15,
      "outputs": []
    },
    {
      "cell_type": "code",
      "metadata": {
        "id": "WQ8bKzBjj4hc",
        "colab": {
          "base_uri": "https://localhost:8080/",
          "height": 253,
          "referenced_widgets": [
            "462729fc2f1b49f9b6030583d4ef3df8",
            "8575bc8f123e4f6e8f926e68e509c7b3",
            "b4ec506214cf4b139151c7dfdd7daa5f",
            "9fb4f7e8ea294aa9bd5aac3f3a2120d0",
            "a57c7f030d0f451397db90c81447c1f4",
            "fb6a0409e5264b1190f3eb92a1e4a1c1",
            "55b7db0e918c4a1a92188606d2796fc6",
            "4474b9eb907944c8892a4640cb2e0871"
          ]
        },
        "outputId": "20015da5-dc4f-4de4-b318-67add1569236"
      },
      "source": [
        "import time\n",
        "n_epoch = 50\n",
        "print_period = n_epoch // 10\n",
        "start = time.time()\n",
        "\n",
        "training_loss = []\n",
        "validation_loss = []\n",
        "\n",
        "for i in tqdm(range(n_epoch), desc='epochs'):\n",
        "    # Reset the train data iterator.\n",
        "    epoch_loss = 0\n",
        "    epoch_val_loss = 0\n",
        "\n",
        "    train_data.reset()\n",
        "    val_data.reset()\n",
        "\n",
        "    n_batch_train = 0\n",
        "    # Loop over the train data iterator.\n",
        "    for batch in train_data:\n",
        "        n_batch_train +=1\n",
        "        # Splits train data into multiple slices along batch_axis\n",
        "        # and copy each slice into a context.\n",
        "        data = batch.data[0].as_in_context(model_ctx)\n",
        "        # Splits train labels into multiple slices along batch_axis\n",
        "        # and copy each slice into a context.\n",
        "        # label = gluon.utils.split_and_load(batch.label[0], ctx_list=ctx, batch_axis=0)\n",
        "        outputs = []\n",
        "        # Inside training scope\n",
        "        with ag.record():\n",
        "            z = vae_model(data)\n",
        "            # Computes softmax cross entropy loss.\n",
        "            loss = loss_fn(*z)\n",
        "        loss.backward()\n",
        "        trainer.step(batch.data[0].shape[0])\n",
        "        epoch_loss += nd.mean(loss).asscalar()\n",
        "\n",
        "        # Backpropagate the error for one iteration.\n",
        "        outputs.append(z)\n",
        "\n",
        "    n_batch_val = 0\n",
        "    for batch in val_data:\n",
        "        n_batch_val +=1\n",
        "        data = batch.data[0].as_in_context(model_ctx)\n",
        "        z = vae_model(data)\n",
        "        loss = loss_fn(*z)\n",
        "        epoch_val_loss += nd.mean(loss).asscalar()\n",
        "\n",
        "    epoch_loss /= n_batch_train\n",
        "    epoch_val_loss /= n_batch_val\n",
        "\n",
        "    training_loss.append(epoch_loss)\n",
        "    validation_loss.append(epoch_val_loss)\n",
        "\n",
        "    if i % max(print_period,1) == 0:\n",
        "        tqdm.write('Epoch{}, Training loss {}, Validation loss {}'.format(i, epoch_loss, epoch_val_loss))\n",
        "\n",
        "end = time.time()\n",
        "print('Time elapsed: {:.2f}s'.format(end - start))"
      ],
      "execution_count": 17,
      "outputs": [
        {
          "output_type": "display_data",
          "data": {
            "application/vnd.jupyter.widget-view+json": {
              "model_id": "462729fc2f1b49f9b6030583d4ef3df8",
              "version_minor": 0,
              "version_major": 2
            },
            "text/plain": [
              "HBox(children=(FloatProgress(value=0.0, description='epochs', max=50.0, style=ProgressStyle(description_width=…"
            ]
          },
          "metadata": {
            "tags": []
          }
        },
        {
          "output_type": "stream",
          "text": [
            "Epoch0, Training loss 745.7582267252604, Validation loss 743.1639587402344\n",
            "Epoch5, Training loss 742.8360832722982, Validation loss 742.6004846191406\n",
            "Epoch10, Training loss 742.6659996541341, Validation loss 742.3781585693359\n",
            "Epoch15, Training loss 742.6452795410156, Validation loss 742.4994580078124\n",
            "Epoch20, Training loss 742.5400253295899, Validation loss 742.5170239257812\n",
            "Epoch25, Training loss 742.5409232584635, Validation loss 742.6764508056641\n",
            "Epoch30, Training loss 742.5416003417969, Validation loss 742.6497406005859\n",
            "Epoch35, Training loss 742.500207824707, Validation loss 742.4339074707032\n",
            "Epoch40, Training loss 742.4747625732422, Validation loss 742.4066748046876\n",
            "Epoch45, Training loss 742.4919836425781, Validation loss 742.4528717041015\n",
            "\n",
            "Time elapsed: 192.86s\n"
          ],
          "name": "stdout"
        }
      ]
    },
    {
      "cell_type": "code",
      "metadata": {
        "id": "A8rA5lnuv2jP",
        "outputId": "00405b6c-48b1-43e0-a0fa-ef07b99b9c5d",
        "colab": {
          "base_uri": "https://localhost:8080/",
          "height": 937
        }
      },
      "source": [
        "for test_img in mnist[\"test_data\"][0:5, 0]:\n",
        "    plt.subplot(1, 2, 1)\n",
        "    plt.imshow(test_img)\n",
        "    x, x_mean, x_log_var, z_mean, z_log_var = vae_model(nd.array(test_img.reshape(1, 784)).as_in_context(model_ctx))\n",
        "    plt.subplot(1, 2, 2)\n",
        "    plt.imshow(x_mean[0].asnumpy().reshape(28,28))\n",
        "    plt.show()"
      ],
      "execution_count": 23,
      "outputs": [
        {
          "output_type": "display_data",
          "data": {
            "image/png": "[encoded data removed]",
            "text/plain": [
              "<Figure size 432x288 with 2 Axes>"
            ]
          },
          "metadata": {
            "tags": [],
            "needs_background": "light"
          }
        },
        {
          "output_type": "display_data",
          "data": {
            "image/png": "[encoded data removed]",
            "text/plain": [
              "<Figure size 432x288 with 2 Axes>"
            ]
          },
          "metadata": {
            "tags": [],
            "needs_background": "light"
          }
        },
        {
          "output_type": "display_data",
          "data": {
            "image/png": "[encoded data removed]",
            "text/plain": [
              "<Figure size 432x288 with 2 Axes>"
            ]
          },
          "metadata": {
            "tags": [],
            "needs_background": "light"
          }
        },
        {
          "output_type": "display_data",
          "data": {
            "image/png": "[encoded data removed]",
            "text/plain": [
              "<Figure size 432x288 with 2 Axes>"
            ]
          },
          "metadata": {
            "tags": [],
            "needs_background": "light"
          }
        },
        {
          "output_type": "display_data",
          "data": {
            "image/png": "[encoded data removed]",
            "text/plain": [
              "<Figure size 432x288 with 2 Axes>"
            ]
          },
          "metadata": {
            "tags": [],
            "needs_background": "light"
          }
        }
      ]
    },
    {
      "cell_type": "markdown",
      "metadata": {
        "id": "Er_NwFS0EGYy"
      },
      "source": [
        "### Task (50 points):\n",
        "* Evaluate the reconstruction quality of the variational autoencoder: Draw some Mnist like images, encode them, decode them, visualize them and briefly explain the results.\n",
        " * Repeat the task with drawings of something else (e.g., a face).\n",
        "* Evaluate the sampling quality of the variational autoencoder: Sample some random features from the prior, decode them, visualize them and briefly explain the results.\n",
        " * Repeat the task with features on a regular grid.\n",
        "* Evaluate the latent quality of the variational autoencoder: Scatter plot features of images, color code their labels."
      ]
    },
    {
      "cell_type": "code",
      "metadata": {
        "id": "z1SGUbpfEGYy"
      },
      "source": [
        "# Your code here..."
      ],
      "execution_count": null,
      "outputs": []
    }
  ]
}