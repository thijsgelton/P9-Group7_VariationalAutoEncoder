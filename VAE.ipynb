{
  "nbformat": 4,
  "nbformat_minor": 0,
  "metadata": {
    "kernelspec": {
      "display_name": "Python 3",
      "language": "python",
      "name": "python3"
    },
    "language_info": {
      "codemirror_mode": {
        "name": "ipython",
        "version": 3
      },
      "file_extension": ".py",
      "mimetype": "text/x-python",
      "name": "python",
      "nbconvert_exporter": "python",
      "pygments_lexer": "ipython3",
      "version": "3.8.3"
    },
    "colab": {
      "name": "VAE.ipynb",
      "provenance": [],
      "collapsed_sections": [],
      "include_colab_link": true
    },
    "accelerator": "GPU",
    "widgets": {
      "application/vnd.jupyter.widget-state+json": {
        "5668147153904e3d8c8da33c2b9d43b4": {
          "model_module": "@jupyter-widgets/controls",
          "model_name": "HBoxModel",
          "state": {
            "_view_name": "HBoxView",
            "_dom_classes": [],
            "_model_name": "HBoxModel",
            "_view_module": "@jupyter-widgets/controls",
            "_model_module_version": "1.5.0",
            "_view_count": null,
            "_view_module_version": "1.5.0",
            "box_style": "",
            "layout": "IPY_MODEL_a441f9a80c204f26a0261b3118d1741a",
            "_model_module": "@jupyter-widgets/controls",
            "children": [
              "IPY_MODEL_9562666a8f8c41a89f0202f3accf73a5",
              "IPY_MODEL_7b11c5a490a74a81bf6edc2a07f53fa8"
            ]
          }
        },
        "a441f9a80c204f26a0261b3118d1741a": {
          "model_module": "@jupyter-widgets/base",
          "model_name": "LayoutModel",
          "state": {
            "_view_name": "LayoutView",
            "grid_template_rows": null,
            "right": null,
            "justify_content": null,
            "_view_module": "@jupyter-widgets/base",
            "overflow": null,
            "_model_module_version": "1.2.0",
            "_view_count": null,
            "flex_flow": null,
            "width": null,
            "min_width": null,
            "border": null,
            "align_items": null,
            "bottom": null,
            "_model_module": "@jupyter-widgets/base",
            "top": null,
            "grid_column": null,
            "overflow_y": null,
            "overflow_x": null,
            "grid_auto_flow": null,
            "grid_area": null,
            "grid_template_columns": null,
            "flex": null,
            "_model_name": "LayoutModel",
            "justify_items": null,
            "grid_row": null,
            "max_height": null,
            "align_content": null,
            "visibility": null,
            "align_self": null,
            "height": null,
            "min_height": null,
            "padding": null,
            "grid_auto_rows": null,
            "grid_gap": null,
            "max_width": null,
            "order": null,
            "_view_module_version": "1.2.0",
            "grid_template_areas": null,
            "object_position": null,
            "object_fit": null,
            "grid_auto_columns": null,
            "margin": null,
            "display": null,
            "left": null
          }
        },
        "9562666a8f8c41a89f0202f3accf73a5": {
          "model_module": "@jupyter-widgets/controls",
          "model_name": "FloatProgressModel",
          "state": {
            "_view_name": "ProgressView",
            "style": "IPY_MODEL_cf9409d38aa54f5a88c64e849aa8c18f",
            "_dom_classes": [],
            "description": "epochs: 100%",
            "_model_name": "FloatProgressModel",
            "bar_style": "success",
            "max": 15,
            "_view_module": "@jupyter-widgets/controls",
            "_model_module_version": "1.5.0",
            "value": 15,
            "_view_count": null,
            "_view_module_version": "1.5.0",
            "orientation": "horizontal",
            "min": 0,
            "description_tooltip": null,
            "_model_module": "@jupyter-widgets/controls",
            "layout": "IPY_MODEL_da1e4780f4db44f59e92a2a41064c564"
          }
        },
        "7b11c5a490a74a81bf6edc2a07f53fa8": {
          "model_module": "@jupyter-widgets/controls",
          "model_name": "HTMLModel",
          "state": {
            "_view_name": "HTMLView",
            "style": "IPY_MODEL_6ca884d1db9c48fc9f1dfb922de0ada5",
            "_dom_classes": [],
            "description": "",
            "_model_name": "HTMLModel",
            "placeholder": "​",
            "_view_module": "@jupyter-widgets/controls",
            "_model_module_version": "1.5.0",
            "value": " 15/15 [01:28&lt;00:00,  5.92s/it]",
            "_view_count": null,
            "_view_module_version": "1.5.0",
            "description_tooltip": null,
            "_model_module": "@jupyter-widgets/controls",
            "layout": "IPY_MODEL_d64c05b4c0e640649b0b67f717c0cd30"
          }
        },
        "cf9409d38aa54f5a88c64e849aa8c18f": {
          "model_module": "@jupyter-widgets/controls",
          "model_name": "ProgressStyleModel",
          "state": {
            "_view_name": "StyleView",
            "_model_name": "ProgressStyleModel",
            "description_width": "initial",
            "_view_module": "@jupyter-widgets/base",
            "_model_module_version": "1.5.0",
            "_view_count": null,
            "_view_module_version": "1.2.0",
            "bar_color": null,
            "_model_module": "@jupyter-widgets/controls"
          }
        },
        "da1e4780f4db44f59e92a2a41064c564": {
          "model_module": "@jupyter-widgets/base",
          "model_name": "LayoutModel",
          "state": {
            "_view_name": "LayoutView",
            "grid_template_rows": null,
            "right": null,
            "justify_content": null,
            "_view_module": "@jupyter-widgets/base",
            "overflow": null,
            "_model_module_version": "1.2.0",
            "_view_count": null,
            "flex_flow": null,
            "width": null,
            "min_width": null,
            "border": null,
            "align_items": null,
            "bottom": null,
            "_model_module": "@jupyter-widgets/base",
            "top": null,
            "grid_column": null,
            "overflow_y": null,
            "overflow_x": null,
            "grid_auto_flow": null,
            "grid_area": null,
            "grid_template_columns": null,
            "flex": null,
            "_model_name": "LayoutModel",
            "justify_items": null,
            "grid_row": null,
            "max_height": null,
            "align_content": null,
            "visibility": null,
            "align_self": null,
            "height": null,
            "min_height": null,
            "padding": null,
            "grid_auto_rows": null,
            "grid_gap": null,
            "max_width": null,
            "order": null,
            "_view_module_version": "1.2.0",
            "grid_template_areas": null,
            "object_position": null,
            "object_fit": null,
            "grid_auto_columns": null,
            "margin": null,
            "display": null,
            "left": null
          }
        },
        "6ca884d1db9c48fc9f1dfb922de0ada5": {
          "model_module": "@jupyter-widgets/controls",
          "model_name": "DescriptionStyleModel",
          "state": {
            "_view_name": "StyleView",
            "_model_name": "DescriptionStyleModel",
            "description_width": "",
            "_view_module": "@jupyter-widgets/base",
            "_model_module_version": "1.5.0",
            "_view_count": null,
            "_view_module_version": "1.2.0",
            "_model_module": "@jupyter-widgets/controls"
          }
        },
        "d64c05b4c0e640649b0b67f717c0cd30": {
          "model_module": "@jupyter-widgets/base",
          "model_name": "LayoutModel",
          "state": {
            "_view_name": "LayoutView",
            "grid_template_rows": null,
            "right": null,
            "justify_content": null,
            "_view_module": "@jupyter-widgets/base",
            "overflow": null,
            "_model_module_version": "1.2.0",
            "_view_count": null,
            "flex_flow": null,
            "width": null,
            "min_width": null,
            "border": null,
            "align_items": null,
            "bottom": null,
            "_model_module": "@jupyter-widgets/base",
            "top": null,
            "grid_column": null,
            "overflow_y": null,
            "overflow_x": null,
            "grid_auto_flow": null,
            "grid_area": null,
            "grid_template_columns": null,
            "flex": null,
            "_model_name": "LayoutModel",
            "justify_items": null,
            "grid_row": null,
            "max_height": null,
            "align_content": null,
            "visibility": null,
            "align_self": null,
            "height": null,
            "min_height": null,
            "padding": null,
            "grid_auto_rows": null,
            "grid_gap": null,
            "max_width": null,
            "order": null,
            "_view_module_version": "1.2.0",
            "grid_template_areas": null,
            "object_position": null,
            "object_fit": null,
            "grid_auto_columns": null,
            "margin": null,
            "display": null,
            "left": null
          }
        }
      }
    }
  },
  "cells": [
    {
      "cell_type": "markdown",
      "metadata": {
        "id": "view-in-github",
        "colab_type": "text"
      },
      "source": [
        "<a href=\"https://colab.research.google.com/github/thijsgelton/P9-Group7_VariationalAutoEncoder/blob/main/VAE.ipynb\" target=\"_parent\"><img src=\"https://colab.research.google.com/assets/colab-badge.svg\" alt=\"Open In Colab\"/></a>"
      ]
    },
    {
      "cell_type": "markdown",
      "metadata": {
        "id": "87t9m7vdFL6G"
      },
      "source": [
        "```\n",
        "SOW-MKI95 Computer Graphics & Computer Vision Spring\n",
        "Variational autoencoders practical\n",
        "```"
      ]
    },
    {
      "cell_type": "markdown",
      "metadata": {
        "id": "qTiJBPQyFPOk"
      },
      "source": [
        "```\n",
        "Group number: 7\n",
        "Student 1 name/number: Marit Hagens, s4808061\n",
        "Student 2 name/number: Joost Verhaert, s1047220\n",
        "Student 3 name/number: Thijs Gelton, s4480783\n",
        "```\n"
      ]
    },
    {
      "cell_type": "code",
      "metadata": {
        "id": "kIinhT5oTfxT",
        "outputId": "f788d642-a234-460f-baea-5d45d99fe5f2",
        "colab": {
          "base_uri": "https://localhost:8080/"
        }
      },
      "source": [
        "!pip install mxnet-cu100"
      ],
      "execution_count": 1,
      "outputs": [
        {
          "output_type": "stream",
          "text": [
            "Collecting mxnet-cu100\n",
            "\u001b[?25l  Downloading https://files.pythonhosted.org/packages/85/09/a13d45136ce70589cceee4081f485f8f47fc5eb716d07981d4c2547763df/mxnet_cu100-1.8.0.post0-py2.py3-none-manylinux2014_x86_64.whl (352.6MB)\n",
            "\u001b[K     |████████████████████████████████| 352.6MB 46kB/s \n",
            "\u001b[?25hRequirement already satisfied: numpy<2.0.0,>1.16.0 in /usr/local/lib/python3.7/dist-packages (from mxnet-cu100) (1.19.5)\n",
            "Requirement already satisfied: requests<3,>=2.20.0 in /usr/local/lib/python3.7/dist-packages (from mxnet-cu100) (2.23.0)\n",
            "Collecting graphviz<0.9.0,>=0.8.1\n",
            "  Downloading https://files.pythonhosted.org/packages/53/39/4ab213673844e0c004bed8a0781a0721a3f6bb23eb8854ee75c236428892/graphviz-0.8.4-py2.py3-none-any.whl\n",
            "Requirement already satisfied: urllib3!=1.25.0,!=1.25.1,<1.26,>=1.21.1 in /usr/local/lib/python3.7/dist-packages (from requests<3,>=2.20.0->mxnet-cu100) (1.24.3)\n",
            "Requirement already satisfied: idna<3,>=2.5 in /usr/local/lib/python3.7/dist-packages (from requests<3,>=2.20.0->mxnet-cu100) (2.10)\n",
            "Requirement already satisfied: certifi>=2017.4.17 in /usr/local/lib/python3.7/dist-packages (from requests<3,>=2.20.0->mxnet-cu100) (2020.12.5)\n",
            "Requirement already satisfied: chardet<4,>=3.0.2 in /usr/local/lib/python3.7/dist-packages (from requests<3,>=2.20.0->mxnet-cu100) (3.0.4)\n",
            "Installing collected packages: graphviz, mxnet-cu100\n",
            "  Found existing installation: graphviz 0.10.1\n",
            "    Uninstalling graphviz-0.10.1:\n",
            "      Successfully uninstalled graphviz-0.10.1\n",
            "Successfully installed graphviz-0.8.4 mxnet-cu100-1.8.0.post0\n"
          ],
          "name": "stdout"
        }
      ]
    },
    {
      "cell_type": "code",
      "metadata": {
        "id": "uSl_faq2EGYd"
      },
      "source": [
        "from mxnet import nd, gluon\n",
        "from mxnet import autograd as ag\n",
        "from mxnet.gluon import nn\n",
        "from mxnet.gluon.contrib.estimator import estimator\n",
        "from mxnet.gluon.contrib.estimator.event_handler import TrainBegin, TrainEnd, EpochEnd, CheckpointHandler\n",
        "\n",
        "import matplotlib.pyplot as plt\n",
        "import mxnet as mx\n",
        "import numpy as np\n",
        "import math\n",
        "from tqdm.notebook import tqdm\n",
        "\n",
        "%matplotlib inline\n",
        "\n",
        "# Feel free to import other modules/packages"
      ],
      "execution_count": 91,
      "outputs": []
    },
    {
      "cell_type": "code",
      "metadata": {
        "id": "NE2TFzekUq8s",
        "outputId": "a5d83dbe-0bb0-40c5-ad91-cd88bc56aa4b",
        "colab": {
          "base_uri": "https://localhost:8080/"
        }
      },
      "source": [
        "def gpu_device(gpu_number=0):\n",
        "    try:\n",
        "        _ = mx.nd.array([1, 2, 3], ctx=mx.gpu(gpu_number))\n",
        "    except mx.MXNetError:\n",
        "        return None\n",
        "    return mx.gpu(gpu_number)\n",
        "\n",
        "gpu = gpu_device()\n",
        "\n",
        "if gpu:\n",
        "    print('Using GPU for model_ctx')\n",
        "    model_ctx = gpu\n",
        "else:\n",
        "    print('Using CPU for model_ctx')\n",
        "    model_ctx = mx.cpu()"
      ],
      "execution_count": 15,
      "outputs": [
        {
          "output_type": "stream",
          "text": [
            "Using GPU for model_ctx\n"
          ],
          "name": "stdout"
        }
      ]
    },
    {
      "cell_type": "markdown",
      "metadata": {
        "id": "qy8kd5Vvdt7P"
      },
      "source": [
        "## Loading in the MNIST dataset."
      ]
    },
    {
      "cell_type": "code",
      "metadata": {
        "id": "n5CstDKudrS5"
      },
      "source": [
        "# Fixing the random seed\n",
        "mx.random.seed(42)\n",
        "\n",
        "# Get data\n",
        "mnist = mx.test_utils.get_mnist()"
      ],
      "execution_count": 11,
      "outputs": []
    },
    {
      "cell_type": "code",
      "metadata": {
        "id": "HBxiJAKXiVwJ"
      },
      "source": [
        "# Create data iterators\n",
        "batch_size = 100\n",
        "train_data = mx.io.NDArrayIter(mnist['train_data'].reshape(-1, 784), mnist['train_label'], batch_size, shuffle=True)\n",
        "val_data = mx.io.NDArrayIter(mnist['test_data'].reshape(-1, 784), mnist['test_label'], batch_size)"
      ],
      "execution_count": 58,
      "outputs": []
    },
    {
      "cell_type": "markdown",
      "metadata": {
        "id": "izULJfhWEGYg"
      },
      "source": [
        "### Task 1 (10 points):\n",
        "\n",
        "* Implement the decoder class for a variational autoencoder.\n",
        "\n",
        "---o---\n",
        "\n",
        "Recall that the decoder transforms latents (features) to observables (images). It corresponds to p(x | z) in the context of variational inference (and the slides), where x is observables and z is latents. Note that it should output the Gaussian parameters (mean and variance per pixel) of images rather than images themselves.\n",
        "\n",
        "---o---"
      ]
    },
    {
      "cell_type": "code",
      "metadata": {
        "id": "iEDrnNpjEGYh"
      },
      "source": [
        "class Decoder(nn.HybridSequential):\n",
        "    def __init__(self, activation = \"relu\", hiddens = 400, observables = 784, layers = 1, **kwargs): # Feel free to use different arguments\n",
        "        super(Decoder, self).__init__(**kwargs)\n",
        "        for i in range(layers):\n",
        "            self.add(nn.Dense(hiddens, activation=activation))\n",
        "        self.add(nn.Dense(observables*2, activation=\"sigmoid\"))       \n",
        "        "
      ],
      "execution_count": 12,
      "outputs": []
    },
    {
      "cell_type": "markdown",
      "metadata": {
        "id": "7KE1zoq2EGYk"
      },
      "source": [
        "### Task 2 (10 points):\n",
        "\n",
        "* Implement the encoder class for a variational autoencoder.\n",
        "\n",
        "---o---\n",
        "\n",
        "Recall that the encoder transforms observables (images) to latents (features). It corresponds to q(z | x) in the context of variational inference (and the slides), where z is latents and x is observables. Note that it should output the Gaussian parameters (mean and variance per feature) of features rather than features themselves.\n",
        "\n",
        "---o---"
      ]
    },
    {
      "cell_type": "code",
      "metadata": {
        "id": "9sZngO1pEGYl"
      },
      "source": [
        "class Encoder(nn.HybridSequential):\n",
        "    def __init__(self, activation = \"relu\", hiddens= 400, latents = 2, layers = 1, **kwargs): # Feel free to use different arguments\n",
        "        super(Encoder, self).__init__(**kwargs)\n",
        "        for i in range(layers):\n",
        "            self.add(nn.Dense(hiddens, activation=activation))\n",
        "        self.add(nn.Dense(latents * 2)) # No activation function, because mean and std can be [-inf, +inf]"
      ],
      "execution_count": 14,
      "outputs": []
    },
    {
      "cell_type": "markdown",
      "metadata": {
        "id": "N59f0FCOEGYn"
      },
      "source": [
        "### Task:\n",
        "\n",
        "* Implement the loss function class for a variational autoecoder.\n",
        "\n",
        "---o---\n",
        "\n",
        "The loss function takes the following arguments as input:\n",
        "\n",
        "* x        : input images (mini batch)\n",
        "* x_mean   : mean of the decoded images (output of the decoder)\n",
        "* x_log_var: mean of the decoded images (output of the decoder)\n",
        "* z_mean   : mean of the encoded features (output of the encoder)\n",
        "* z_log_var: log variance of the encoded features (output of the encoder)\n",
        "\n",
        "It gives the following evidence lower bound (ELBO) as ouput:\n",
        "\n",
        "* $L = D_{KL}(q(z | x), p(z)) -  E_{z\\sim q}[log p(x | z)]$\n",
        "\n",
        "where\n",
        "\n",
        "* The first term is the KL divergence between the approximate Gaussian posterior (q) and the standard Gaussian prior (p), which can be interpreted as a form of regularization.\n",
        "* The second term is the Gaussian negative log likelihood, which is the term that fits the data and is very similar to the usual loss functions that are usded in deep learning.\n",
        "\n",
        "---o---"
      ]
    },
    {
      "cell_type": "code",
      "metadata": {
        "id": "DAfVRFXJEGYo"
      },
      "source": [
        "class Lossfun:\n",
        "    def __init__(self, w = 1.0): # Feel free to use different w which can be used as the weight of the different loss components\n",
        "        self.w = w\n",
        "\n",
        "    def __call__(self, x, x_mean, x_log_var, z_mean, z_log_var):\n",
        "        return self.w * self.get_kl(z_mean, z_log_var) + (1 - self.w) * self.get_nll(x, x_mean, x_log_var)\n",
        "\n",
        "    def get_kl(self, z_mean, z_log_var):\n",
        "        return 0.5 * nd.mean(((z_mean ** 2) + nd.exp(z_log_var) - z_log_var - 1))\n",
        "\n",
        "    def get_nll(self, x, x_mean, x_log_var):\n",
        "        return 0.5 * nd.mean(((x_log_var + math.log(2 * math.pi)) + ((x - x_mean) ** 2) * nd.exp(-x_log_var)))"
      ],
      "execution_count": 35,
      "outputs": []
    },
    {
      "cell_type": "markdown",
      "metadata": {
        "id": "0gxKE99gEGYr"
      },
      "source": [
        "### Task (5 points):\n",
        "\n",
        "* Implement the variational autoencoder."
      ]
    },
    {
      "cell_type": "code",
      "metadata": {
        "id": "esbwnvO4EGYr"
      },
      "source": [
        "class VariationalAutoencoder(gluon.HybridBlock):\n",
        "    def __init__(self,  activation = \"relu\", hiddens= 400, latents = 2, observables = 784, layers = 1, **kwargs): # Feel free to use different arguments\n",
        "        super(VariationalAutoencoder, self).__init__()\n",
        "        self.latents = latents\n",
        "        with self.name_scope():\n",
        "            self.encoder = Encoder(activation, hiddens, latents, layers, **kwargs)\n",
        "            self.decoder = Decoder(activation, hiddens, observables, layers, **kwargs)\n",
        "\n",
        "    def hybrid_forward(self, F, x):\n",
        "        mean_lv = self.encoder(x)        \n",
        "        z_mean, z_log_var = F.split(mean_lv, axis=1, num_outputs=2)\n",
        "        eps = F.random_normal(loc=0, scale=1, shape=(x.shape[0], self.latents), ctx=model_ctx) # Reparamitisation trick\n",
        "        z = z_mean + F.exp(0.5 * z_log_var) * eps\n",
        "        x_mean, x_log_var = F.split(self.decoder(z), axis=1, num_outputs=2)\n",
        "        return x, x_mean, x_log_var, z_mean, z_log_var"
      ],
      "execution_count": 50,
      "outputs": []
    },
    {
      "cell_type": "markdown",
      "metadata": {
        "id": "EjFitH3uEGYu"
      },
      "source": [
        "### Task (25 points):\n",
        "\n",
        "* Train the variational autoencoder on the Mnist dataset. You can refer to the previous assignment to implement your training loop."
      ]
    },
    {
      "cell_type": "code",
      "metadata": {
        "id": "KEW5GJ3AkOj7"
      },
      "source": [
        "# check wheter there is a gpu and use the best option\n",
        "gpus = mx.test_utils.list_gpus()\n",
        "ctx =  [mx.gpu()] if gpus else [mx.cpu(0), mx.cpu(1)]\n",
        "vae_model = VariationalAutoencoder()\n",
        "loss_fn = Lossfun()\n",
        "vae_model.initialize(mx.init.Xavier(magnitude=2.24), ctx=ctx)\n",
        "trainer = gluon.Trainer(vae_model.collect_params(), 'adam', {'learning_rate': 0.001})"
      ],
      "execution_count": 59,
      "outputs": []
    },
    {
      "cell_type": "code",
      "metadata": {
        "id": "WQ8bKzBjj4hc",
        "outputId": "d475e3e9-8510-4f1e-a64f-70c6a4572a64",
        "colab": {
          "base_uri": "https://localhost:8080/",
          "height": 334,
          "referenced_widgets": [
            "5668147153904e3d8c8da33c2b9d43b4",
            "a441f9a80c204f26a0261b3118d1741a",
            "9562666a8f8c41a89f0202f3accf73a5",
            "7b11c5a490a74a81bf6edc2a07f53fa8",
            "cf9409d38aa54f5a88c64e849aa8c18f",
            "da1e4780f4db44f59e92a2a41064c564",
            "6ca884d1db9c48fc9f1dfb922de0ada5",
            "d64c05b4c0e640649b0b67f717c0cd30"
          ]
        }
      },
      "source": [
        "import time\n",
        "n_epoch = 50\n",
        "print_period = n_epoch // 10\n",
        "start = time.time()\n",
        "\n",
        "training_loss = []\n",
        "validation_loss = []\n",
        "\n",
        "for i in tqdm(range(epoch), desc='epochs'):\n",
        "    # Reset the train data iterator.\n",
        "    epoch_loss = 0\n",
        "    epoch_val_loss = 0\n",
        "\n",
        "    train_data.reset()\n",
        "    val_data.reset()\n",
        "\n",
        "    n_batch_train = 0\n",
        "    # Loop over the train data iterator.\n",
        "    for batch in train_data:\n",
        "        n_batch_train +=1\n",
        "        # Splits train data into multiple slices along batch_axis\n",
        "        # and copy each slice into a context.\n",
        "        data = batch.data[0].as_in_context(model_ctx)\n",
        "        # Splits train labels into multiple slices along batch_axis\n",
        "        # and copy each slice into a context.\n",
        "        # label = gluon.utils.split_and_load(batch.label[0], ctx_list=ctx, batch_axis=0)\n",
        "        outputs = []\n",
        "        # Inside training scope\n",
        "        with ag.record():\n",
        "            z = vae_model(data)\n",
        "            # Computes softmax cross entropy loss.\n",
        "            loss = loss_fn(*z)\n",
        "        loss.backward()\n",
        "        trainer.step(batch.data[0].shape[0])\n",
        "        epoch_loss += nd.mean(loss).asscalar()\n",
        "\n",
        "        # Backpropagate the error for one iteration.\n",
        "        outputs.append(z)\n",
        "\n",
        "    n_batch_val = 0\n",
        "    for batch in val_data:\n",
        "        n_batch_val +=1\n",
        "        data = batch.data[0].as_in_context(model_ctx)\n",
        "        z = vae_model(data)\n",
        "        loss = loss_fn(*z)\n",
        "        epoch_val_loss += nd.mean(loss).asscalar()\n",
        "\n",
        "    epoch_loss /= n_batch_train\n",
        "    epoch_val_loss /= n_batch_val\n",
        "\n",
        "    training_loss.append(epoch_loss)\n",
        "    validation_loss.append(epoch_val_loss)\n",
        "\n",
        "    if epoch % max(print_period,1) == 0:\n",
        "        tqdm.write('Epoch{}, Training loss {}, Validation loss {}'.format(i, epoch_loss, epoch_val_loss))\n",
        "\n",
        "end = time.time()\n",
        "print('Time elapsed: {:.2f}s'.format(end - start))"
      ],
      "execution_count": 92,
      "outputs": [
        {
          "output_type": "display_data",
          "data": {
            "application/vnd.jupyter.widget-view+json": {
              "model_id": "5668147153904e3d8c8da33c2b9d43b4",
              "version_minor": 0,
              "version_major": 2
            },
            "text/plain": [
              "HBox(children=(FloatProgress(value=0.0, description='epochs', max=15.0, style=ProgressStyle(description_width=…"
            ]
          },
          "metadata": {
            "tags": []
          }
        },
        {
          "output_type": "stream",
          "text": [
            "Epoch0, Training loss 0.008620143343384068, Validation loss 0.008491959501989187\n",
            "Epoch1, Training loss 0.008508590940230836, Validation loss 0.008380772797390818\n",
            "Epoch2, Training loss 0.00840166543610394, Validation loss 0.008274451214820146\n",
            "Epoch3, Training loss 0.008299013155046851, Validation loss 0.008172165923751891\n",
            "Epoch4, Training loss 0.008200328665940712, Validation loss 0.008073826245963573\n",
            "Epoch5, Training loss 0.008105422820275028, Validation loss 0.007979395757429302\n",
            "Epoch6, Training loss 0.008014123514294624, Validation loss 0.007888562879525125\n",
            "Epoch7, Training loss 0.007926052202625822, Validation loss 0.0078013562224805355\n",
            "Epoch8, Training loss 0.007841180966546138, Validation loss 0.007716846782714128\n",
            "Epoch9, Training loss 0.007759181635143856, Validation loss 0.0076354967849329115\n",
            "Epoch10, Training loss 0.007680049220410486, Validation loss 0.007556818425655365\n",
            "Epoch11, Training loss 0.0076035034283995625, Validation loss 0.0074807544331997634\n",
            "Epoch12, Training loss 0.007529471172795941, Validation loss 0.007407482964918017\n",
            "Epoch13, Training loss 0.0074578192418751615, Validation loss 0.007336364001967013\n",
            "Epoch14, Training loss 0.007388342300740381, Validation loss 0.007267715204507113\n",
            "\n",
            "Time elapsed: 88.86s\n"
          ],
          "name": "stdout"
        }
      ]
    },
    {
      "cell_type": "code",
      "metadata": {
        "id": "u4gKefJpnzB6",
        "outputId": "38560940-f917-4fa7-9cd2-a6f1ec15488b",
        "colab": {
          "base_uri": "https://localhost:8080/",
          "height": 282
        }
      },
      "source": [
        "plt.imshow(mnist[\"test_data\"][0, 0], cmap='gray')"
      ],
      "execution_count": 67,
      "outputs": [
        {
          "output_type": "execute_result",
          "data": {
            "text/plain": [
              "<matplotlib.image.AxesImage at 0x7f65d56812d0>"
            ]
          },
          "metadata": {
            "tags": []
          },
          "execution_count": 67
        },
        {
          "output_type": "display_data",
          "data": {
            "image/png": "[encoded data removed]",
            "text/plain": [
              "<Figure size 432x288 with 1 Axes>"
            ]
          },
          "metadata": {
            "tags": [],
            "needs_background": "light"
          }
        }
      ]
    },
    {
      "cell_type": "code",
      "metadata": {
        "id": "K3i-32h8oleP"
      },
      "source": [
        "x, x_mean, x_log_var, z_mean, z_log_var = vae_model(nd.array(mnist[\"test_data\"][0, 0].reshape(1, 784)).as_in_context(model_ctx))"
      ],
      "execution_count": 71,
      "outputs": []
    },
    {
      "cell_type": "code",
      "metadata": {
        "id": "nI940QMopAvL",
        "outputId": "8f8332a5-1d36-4647-fcc9-4262e684f4e9",
        "colab": {
          "base_uri": "https://localhost:8080/",
          "height": 282
        }
      },
      "source": [
        "plt.imshow(x_mean[0].asnumpy().reshape(28, 28), cmap='gray')"
      ],
      "execution_count": 94,
      "outputs": [
        {
          "output_type": "execute_result",
          "data": {
            "text/plain": [
              "<matplotlib.image.AxesImage at 0x7f65d4607950>"
            ]
          },
          "metadata": {
            "tags": []
          },
          "execution_count": 94
        },
        {
          "output_type": "display_data",
          "data": {
            "image/png": "[encoded data removed]",
            "text/plain": [
              "<Figure size 432x288 with 1 Axes>"
            ]
          },
          "metadata": {
            "tags": [],
            "needs_background": "light"
          }
        }
      ]
    },
    {
      "cell_type": "markdown",
      "metadata": {
        "id": "Er_NwFS0EGYy"
      },
      "source": [
        "### Task (50 points):\n",
        "* Evaluate the reconstruction quality of the variational autoencoder: Draw some Mnist like images, encode them, decode them, visualize them and briefly explain the results.\n",
        " * Repeat the task with drawings of something else (e.g., a face).\n",
        "* Evaluate the sampling quality of the variational autoencoder: Sample some random features from the prior, decode them, visualize them and briefly explain the results.\n",
        " * Repeat the task with features on a regular grid.\n",
        "* Evaluate the latent quality of the variational autoencoder: Scatter plot features of images, color code their labels."
      ]
    },
    {
      "cell_type": "code",
      "metadata": {
        "id": "z1SGUbpfEGYy"
      },
      "source": [
        "# Your code here..."
      ],
      "execution_count": null,
      "outputs": []
    }
  ]
}